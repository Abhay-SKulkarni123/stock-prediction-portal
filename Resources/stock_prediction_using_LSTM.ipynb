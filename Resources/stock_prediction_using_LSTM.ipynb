{
 "cells": [
  {
   "cell_type": "markdown",
   "id": "e0067e6b-b305-45ae-8429-dac502294944",
   "metadata": {},
   "source": [
    "# 1. Data Collection"
   ]
  },
  {
   "cell_type": "code",
   "execution_count": 5,
   "id": "2b7c9d3a-8ac5-4d5d-8e6a-743c60ec68b0",
   "metadata": {},
   "outputs": [
    {
     "ename": "NameError",
     "evalue": "name 'datetime' is not defined",
     "output_type": "error",
     "traceback": [
      "\u001b[31m---------------------------------------------------------------------------\u001b[39m",
      "\u001b[31mNameError\u001b[39m                                 Traceback (most recent call last)",
      "\u001b[36mCell\u001b[39m\u001b[36m \u001b[39m\u001b[32mIn[5]\u001b[39m\u001b[32m, line 1\u001b[39m\n\u001b[32m----> \u001b[39m\u001b[32m1\u001b[39m now = \u001b[43mdatetime\u001b[49m.now()\n\u001b[32m      3\u001b[39m start = datetime(now.year-\u001b[32m10\u001b[39m, now.month, now.day)\n\u001b[32m      4\u001b[39m end = now\n",
      "\u001b[31mNameError\u001b[39m: name 'datetime' is not defined"
     ]
    }
   ],
   "source": [
    "now = datetime.now()\n",
    "\n",
    "start = datetime(now.year-10, now.month, now.day)\n",
    "end = now\n",
    "ticker = 'AAPL'\n",
    "df = yf.download(ticker, start=start, end=end, auto_adjust=False)\n",
    "df"
   ]
  },
  {
   "cell_type": "markdown",
   "id": "b2b8fc95-518a-4f48-865a-fef2c4f7ab05",
   "metadata": {},
   "source": [
    "# 2. Data Exploration & Visulalisation"
   ]
  },
  {
   "cell_type": "code",
   "execution_count": null,
   "id": "c8db8bc3-9496-421e-8017-4b1b36892ba9",
   "metadata": {},
   "outputs": [
    {
     "data": {
      "text/plain": [
       "(2515, 6)"
      ]
     },
     "execution_count": 3,
     "metadata": {},
     "output_type": "execute_result"
    }
   ],
   "source": [
    "df.shape"
   ]
  },
  {
   "cell_type": "code",
   "execution_count": null,
   "id": "513f0b00-313a-4424-9baf-a0f074821ae3",
   "metadata": {},
   "outputs": [
    {
     "data": {
      "text/plain": [
       "Price      Ticker\n",
       "Adj Close  AAPL      0\n",
       "Close      AAPL      0\n",
       "High       AAPL      0\n",
       "Low        AAPL      0\n",
       "Open       AAPL      0\n",
       "Volume     AAPL      0\n",
       "dtype: int64"
      ]
     },
     "execution_count": 4,
     "metadata": {},
     "output_type": "execute_result"
    }
   ],
   "source": [
    "df.isna().sum()"
   ]
  },
  {
   "cell_type": "code",
   "execution_count": null,
   "id": "d03a9059-5d59-42a1-ab9c-160020fafe55",
   "metadata": {},
   "outputs": [
    {
     "data": {
      "text/html": [
       "<div>\n",
       "<style scoped>\n",
       "    .dataframe tbody tr th:only-of-type {\n",
       "        vertical-align: middle;\n",
       "    }\n",
       "\n",
       "    .dataframe tbody tr th {\n",
       "        vertical-align: top;\n",
       "    }\n",
       "\n",
       "    .dataframe thead tr th {\n",
       "        text-align: left;\n",
       "    }\n",
       "</style>\n",
       "<table border=\"1\" class=\"dataframe\">\n",
       "  <thead>\n",
       "    <tr>\n",
       "      <th>Price</th>\n",
       "      <th>Adj Close</th>\n",
       "      <th>Close</th>\n",
       "      <th>High</th>\n",
       "      <th>Low</th>\n",
       "      <th>Open</th>\n",
       "      <th>Volume</th>\n",
       "    </tr>\n",
       "    <tr>\n",
       "      <th>Ticker</th>\n",
       "      <th>AAPL</th>\n",
       "      <th>AAPL</th>\n",
       "      <th>AAPL</th>\n",
       "      <th>AAPL</th>\n",
       "      <th>AAPL</th>\n",
       "      <th>AAPL</th>\n",
       "    </tr>\n",
       "  </thead>\n",
       "  <tbody>\n",
       "    <tr>\n",
       "      <th>count</th>\n",
       "      <td>2515.000000</td>\n",
       "      <td>2515.000000</td>\n",
       "      <td>2515.000000</td>\n",
       "      <td>2515.000000</td>\n",
       "      <td>2515.000000</td>\n",
       "      <td>2.515000e+03</td>\n",
       "    </tr>\n",
       "    <tr>\n",
       "      <th>mean</th>\n",
       "      <td>107.207734</td>\n",
       "      <td>109.420996</td>\n",
       "      <td>110.513498</td>\n",
       "      <td>108.212699</td>\n",
       "      <td>109.316657</td>\n",
       "      <td>1.057632e+08</td>\n",
       "    </tr>\n",
       "    <tr>\n",
       "      <th>std</th>\n",
       "      <td>69.905199</td>\n",
       "      <td>69.519395</td>\n",
       "      <td>70.198309</td>\n",
       "      <td>68.753921</td>\n",
       "      <td>69.444979</td>\n",
       "      <td>5.951013e+07</td>\n",
       "    </tr>\n",
       "    <tr>\n",
       "      <th>min</th>\n",
       "      <td>20.624052</td>\n",
       "      <td>22.584999</td>\n",
       "      <td>22.917500</td>\n",
       "      <td>22.367500</td>\n",
       "      <td>22.500000</td>\n",
       "      <td>2.068745e+07</td>\n",
       "    </tr>\n",
       "    <tr>\n",
       "      <th>25%</th>\n",
       "      <td>40.333477</td>\n",
       "      <td>42.763750</td>\n",
       "      <td>43.119999</td>\n",
       "      <td>42.408751</td>\n",
       "      <td>42.754999</td>\n",
       "      <td>6.511130e+07</td>\n",
       "    </tr>\n",
       "    <tr>\n",
       "      <th>50%</th>\n",
       "      <td>111.772568</td>\n",
       "      <td>114.907501</td>\n",
       "      <td>116.000000</td>\n",
       "      <td>112.680000</td>\n",
       "      <td>114.550003</td>\n",
       "      <td>9.191280e+07</td>\n",
       "    </tr>\n",
       "    <tr>\n",
       "      <th>75%</th>\n",
       "      <td>168.132614</td>\n",
       "      <td>170.029999</td>\n",
       "      <td>171.680000</td>\n",
       "      <td>168.610001</td>\n",
       "      <td>170.000000</td>\n",
       "      <td>1.297646e+08</td>\n",
       "    </tr>\n",
       "    <tr>\n",
       "      <th>max</th>\n",
       "      <td>258.103729</td>\n",
       "      <td>259.019989</td>\n",
       "      <td>260.100006</td>\n",
       "      <td>257.630005</td>\n",
       "      <td>258.190002</td>\n",
       "      <td>5.334788e+08</td>\n",
       "    </tr>\n",
       "  </tbody>\n",
       "</table>\n",
       "</div>"
      ],
      "text/plain": [
       "Price     Adj Close        Close         High          Low         Open  \\\n",
       "Ticker         AAPL         AAPL         AAPL         AAPL         AAPL   \n",
       "count   2515.000000  2515.000000  2515.000000  2515.000000  2515.000000   \n",
       "mean     107.207734   109.420996   110.513498   108.212699   109.316657   \n",
       "std       69.905199    69.519395    70.198309    68.753921    69.444979   \n",
       "min       20.624052    22.584999    22.917500    22.367500    22.500000   \n",
       "25%       40.333477    42.763750    43.119999    42.408751    42.754999   \n",
       "50%      111.772568   114.907501   116.000000   112.680000   114.550003   \n",
       "75%      168.132614   170.029999   171.680000   168.610001   170.000000   \n",
       "max      258.103729   259.019989   260.100006   257.630005   258.190002   \n",
       "\n",
       "Price         Volume  \n",
       "Ticker          AAPL  \n",
       "count   2.515000e+03  \n",
       "mean    1.057632e+08  \n",
       "std     5.951013e+07  \n",
       "min     2.068745e+07  \n",
       "25%     6.511130e+07  \n",
       "50%     9.191280e+07  \n",
       "75%     1.297646e+08  \n",
       "max     5.334788e+08  "
      ]
     },
     "execution_count": 5,
     "metadata": {},
     "output_type": "execute_result"
    }
   ],
   "source": [
    "df.describe()"
   ]
  },
  {
   "cell_type": "code",
   "execution_count": null,
   "id": "62bb3d3a-6a27-4eff-a844-986fd95b0998",
   "metadata": {},
   "outputs": [
    {
     "data": {
      "text/plain": [
       "Price      Ticker\n",
       "Adj Close  AAPL      float64\n",
       "Close      AAPL      float64\n",
       "High       AAPL      float64\n",
       "Low        AAPL      float64\n",
       "Open       AAPL      float64\n",
       "Volume     AAPL        int64\n",
       "dtype: object"
      ]
     },
     "execution_count": 6,
     "metadata": {},
     "output_type": "execute_result"
    }
   ],
   "source": [
    "df.dtypes"
   ]
  },
  {
   "cell_type": "code",
   "execution_count": null,
   "id": "d4290e6b-9921-49da-ab95-5306dd6a135d",
   "metadata": {},
   "outputs": [
    {
     "data": {
      "text/html": [
       "<div>\n",
       "<style scoped>\n",
       "    .dataframe tbody tr th:only-of-type {\n",
       "        vertical-align: middle;\n",
       "    }\n",
       "\n",
       "    .dataframe tbody tr th {\n",
       "        vertical-align: top;\n",
       "    }\n",
       "\n",
       "    .dataframe thead tr th {\n",
       "        text-align: left;\n",
       "    }\n",
       "</style>\n",
       "<table border=\"1\" class=\"dataframe\">\n",
       "  <thead>\n",
       "    <tr>\n",
       "      <th>Price</th>\n",
       "      <th>Date</th>\n",
       "      <th>Adj Close</th>\n",
       "      <th>Close</th>\n",
       "      <th>High</th>\n",
       "      <th>Low</th>\n",
       "      <th>Open</th>\n",
       "      <th>Volume</th>\n",
       "    </tr>\n",
       "    <tr>\n",
       "      <th>Ticker</th>\n",
       "      <th></th>\n",
       "      <th>AAPL</th>\n",
       "      <th>AAPL</th>\n",
       "      <th>AAPL</th>\n",
       "      <th>AAPL</th>\n",
       "      <th>AAPL</th>\n",
       "      <th>AAPL</th>\n",
       "    </tr>\n",
       "  </thead>\n",
       "  <tbody>\n",
       "    <tr>\n",
       "      <th>0</th>\n",
       "      <td>2015-09-15</td>\n",
       "      <td>26.131084</td>\n",
       "      <td>29.070000</td>\n",
       "      <td>29.132500</td>\n",
       "      <td>28.605000</td>\n",
       "      <td>28.982500</td>\n",
       "      <td>173364800</td>\n",
       "    </tr>\n",
       "    <tr>\n",
       "      <th>1</th>\n",
       "      <td>2015-09-16</td>\n",
       "      <td>26.160299</td>\n",
       "      <td>29.102501</td>\n",
       "      <td>29.135000</td>\n",
       "      <td>28.860001</td>\n",
       "      <td>29.062500</td>\n",
       "      <td>148694000</td>\n",
       "    </tr>\n",
       "    <tr>\n",
       "      <th>2</th>\n",
       "      <td>2015-09-17</td>\n",
       "      <td>25.600737</td>\n",
       "      <td>28.480000</td>\n",
       "      <td>29.122499</td>\n",
       "      <td>28.430000</td>\n",
       "      <td>28.915001</td>\n",
       "      <td>256450400</td>\n",
       "    </tr>\n",
       "    <tr>\n",
       "      <th>3</th>\n",
       "      <td>2015-09-18</td>\n",
       "      <td>25.495111</td>\n",
       "      <td>28.362499</td>\n",
       "      <td>28.575001</td>\n",
       "      <td>27.967501</td>\n",
       "      <td>28.052500</td>\n",
       "      <td>297141200</td>\n",
       "    </tr>\n",
       "    <tr>\n",
       "      <th>4</th>\n",
       "      <td>2015-09-21</td>\n",
       "      <td>25.890636</td>\n",
       "      <td>28.802500</td>\n",
       "      <td>28.842501</td>\n",
       "      <td>28.415001</td>\n",
       "      <td>28.417500</td>\n",
       "      <td>200888000</td>\n",
       "    </tr>\n",
       "    <tr>\n",
       "      <th>...</th>\n",
       "      <td>...</td>\n",
       "      <td>...</td>\n",
       "      <td>...</td>\n",
       "      <td>...</td>\n",
       "      <td>...</td>\n",
       "      <td>...</td>\n",
       "      <td>...</td>\n",
       "    </tr>\n",
       "    <tr>\n",
       "      <th>2510</th>\n",
       "      <td>2025-09-09</td>\n",
       "      <td>234.350006</td>\n",
       "      <td>234.350006</td>\n",
       "      <td>238.779999</td>\n",
       "      <td>233.360001</td>\n",
       "      <td>237.000000</td>\n",
       "      <td>66313900</td>\n",
       "    </tr>\n",
       "    <tr>\n",
       "      <th>2511</th>\n",
       "      <td>2025-09-10</td>\n",
       "      <td>226.789993</td>\n",
       "      <td>226.789993</td>\n",
       "      <td>232.419998</td>\n",
       "      <td>225.949997</td>\n",
       "      <td>232.190002</td>\n",
       "      <td>83440800</td>\n",
       "    </tr>\n",
       "    <tr>\n",
       "      <th>2512</th>\n",
       "      <td>2025-09-11</td>\n",
       "      <td>230.029999</td>\n",
       "      <td>230.029999</td>\n",
       "      <td>230.449997</td>\n",
       "      <td>226.649994</td>\n",
       "      <td>226.880005</td>\n",
       "      <td>50208600</td>\n",
       "    </tr>\n",
       "    <tr>\n",
       "      <th>2513</th>\n",
       "      <td>2025-09-12</td>\n",
       "      <td>234.070007</td>\n",
       "      <td>234.070007</td>\n",
       "      <td>234.509995</td>\n",
       "      <td>229.020004</td>\n",
       "      <td>229.220001</td>\n",
       "      <td>55776500</td>\n",
       "    </tr>\n",
       "    <tr>\n",
       "      <th>2514</th>\n",
       "      <td>2025-09-15</td>\n",
       "      <td>236.960007</td>\n",
       "      <td>236.960007</td>\n",
       "      <td>238.190002</td>\n",
       "      <td>235.029999</td>\n",
       "      <td>237.000000</td>\n",
       "      <td>20687451</td>\n",
       "    </tr>\n",
       "  </tbody>\n",
       "</table>\n",
       "<p>2515 rows × 7 columns</p>\n",
       "</div>"
      ],
      "text/plain": [
       "Price        Date   Adj Close       Close        High         Low        Open  \\\n",
       "Ticker                   AAPL        AAPL        AAPL        AAPL        AAPL   \n",
       "0      2015-09-15   26.131084   29.070000   29.132500   28.605000   28.982500   \n",
       "1      2015-09-16   26.160299   29.102501   29.135000   28.860001   29.062500   \n",
       "2      2015-09-17   25.600737   28.480000   29.122499   28.430000   28.915001   \n",
       "3      2015-09-18   25.495111   28.362499   28.575001   27.967501   28.052500   \n",
       "4      2015-09-21   25.890636   28.802500   28.842501   28.415001   28.417500   \n",
       "...           ...         ...         ...         ...         ...         ...   \n",
       "2510   2025-09-09  234.350006  234.350006  238.779999  233.360001  237.000000   \n",
       "2511   2025-09-10  226.789993  226.789993  232.419998  225.949997  232.190002   \n",
       "2512   2025-09-11  230.029999  230.029999  230.449997  226.649994  226.880005   \n",
       "2513   2025-09-12  234.070007  234.070007  234.509995  229.020004  229.220001   \n",
       "2514   2025-09-15  236.960007  236.960007  238.190002  235.029999  237.000000   \n",
       "\n",
       "Price      Volume  \n",
       "Ticker       AAPL  \n",
       "0       173364800  \n",
       "1       148694000  \n",
       "2       256450400  \n",
       "3       297141200  \n",
       "4       200888000  \n",
       "...           ...  \n",
       "2510     66313900  \n",
       "2511     83440800  \n",
       "2512     50208600  \n",
       "2513     55776500  \n",
       "2514     20687451  \n",
       "\n",
       "[2515 rows x 7 columns]"
      ]
     },
     "execution_count": 7,
     "metadata": {},
     "output_type": "execute_result"
    }
   ],
   "source": [
    "df = df.reset_index()\n",
    "df"
   ]
  },
  {
   "cell_type": "code",
   "execution_count": null,
   "id": "ad9b2b7c-fe3d-4d1b-b70d-155766412a67",
   "metadata": {},
   "outputs": [
    {
     "data": {
      "image/png": "[encoded data removed]",
      "text/plain": [
       "<Figure size 1200x500 with 1 Axes>"
      ]
     },
     "metadata": {},
     "output_type": "display_data"
    }
   ],
   "source": [
    "plt.figure(figsize=(12, 5))\n",
    "plt.plot(df.Close)\n",
    "plt.title(ticker)\n",
    "plt.xlabel('Days');\n",
    "plt.ylabel('Close Price');"
   ]
  },
  {
   "cell_type": "markdown",
   "id": "bf0d6145-2b8c-4a2c-a930-5e8db04f5e51",
   "metadata": {},
   "source": [
    "# 3. Feature Engineering"
   ]
  },
  {
   "cell_type": "code",
   "execution_count": null,
   "id": "f2c8857f-37c3-40f3-b53a-5dcc7eb396a1",
   "metadata": {},
   "outputs": [
    {
     "data": {
      "text/plain": [
       "50.0"
      ]
     },
     "execution_count": 9,
     "metadata": {},
     "output_type": "execute_result"
    }
   ],
   "source": [
    "temp_df = [10,20,30,40,50,60,70,80,90,100]\n",
    "sum(temp_df[2:7])/5"
   ]
  },
  {
   "cell_type": "code",
   "execution_count": null,
   "id": "bf7f8c5f-3b48-4e2b-893e-f3d3e20a3a27",
   "metadata": {},
   "outputs": [
    {
     "data": {
      "text/html": [
       "<div>\n",
       "<style scoped>\n",
       "    .dataframe tbody tr th:only-of-type {\n",
       "        vertical-align: middle;\n",
       "    }\n",
       "\n",
       "    .dataframe tbody tr th {\n",
       "        vertical-align: top;\n",
       "    }\n",
       "\n",
       "    .dataframe thead th {\n",
       "        text-align: right;\n",
       "    }\n",
       "</style>\n",
       "<table border=\"1\" class=\"dataframe\">\n",
       "  <thead>\n",
       "    <tr style=\"text-align: right;\">\n",
       "      <th></th>\n",
       "      <th>0</th>\n",
       "    </tr>\n",
       "  </thead>\n",
       "  <tbody>\n",
       "    <tr>\n",
       "      <th>0</th>\n",
       "      <td>10</td>\n",
       "    </tr>\n",
       "    <tr>\n",
       "      <th>1</th>\n",
       "      <td>20</td>\n",
       "    </tr>\n",
       "    <tr>\n",
       "      <th>2</th>\n",
       "      <td>30</td>\n",
       "    </tr>\n",
       "    <tr>\n",
       "      <th>3</th>\n",
       "      <td>40</td>\n",
       "    </tr>\n",
       "    <tr>\n",
       "      <th>4</th>\n",
       "      <td>50</td>\n",
       "    </tr>\n",
       "    <tr>\n",
       "      <th>5</th>\n",
       "      <td>60</td>\n",
       "    </tr>\n",
       "    <tr>\n",
       "      <th>6</th>\n",
       "      <td>70</td>\n",
       "    </tr>\n",
       "    <tr>\n",
       "      <th>7</th>\n",
       "      <td>80</td>\n",
       "    </tr>\n",
       "    <tr>\n",
       "      <th>8</th>\n",
       "      <td>90</td>\n",
       "    </tr>\n",
       "    <tr>\n",
       "      <th>9</th>\n",
       "      <td>100</td>\n",
       "    </tr>\n",
       "  </tbody>\n",
       "</table>\n",
       "</div>"
      ],
      "text/plain": [
       "     0\n",
       "0   10\n",
       "1   20\n",
       "2   30\n",
       "3   40\n",
       "4   50\n",
       "5   60\n",
       "6   70\n",
       "7   80\n",
       "8   90\n",
       "9  100"
      ]
     },
     "execution_count": 10,
     "metadata": {},
     "output_type": "execute_result"
    }
   ],
   "source": [
    "df1 = pd.DataFrame([10,20,30,40,50,60,70,80,90,100])\n",
    "df1"
   ]
  },
  {
   "cell_type": "code",
   "execution_count": null,
   "id": "a40b380e-1788-478e-a1b7-a7d525ac8a29",
   "metadata": {},
   "outputs": [
    {
     "data": {
      "text/html": [
       "<div>\n",
       "<style scoped>\n",
       "    .dataframe tbody tr th:only-of-type {\n",
       "        vertical-align: middle;\n",
       "    }\n",
       "\n",
       "    .dataframe tbody tr th {\n",
       "        vertical-align: top;\n",
       "    }\n",
       "\n",
       "    .dataframe thead th {\n",
       "        text-align: right;\n",
       "    }\n",
       "</style>\n",
       "<table border=\"1\" class=\"dataframe\">\n",
       "  <thead>\n",
       "    <tr style=\"text-align: right;\">\n",
       "      <th></th>\n",
       "      <th>0</th>\n",
       "      <th>MA_5</th>\n",
       "    </tr>\n",
       "  </thead>\n",
       "  <tbody>\n",
       "    <tr>\n",
       "      <th>0</th>\n",
       "      <td>10</td>\n",
       "      <td>NaN</td>\n",
       "    </tr>\n",
       "    <tr>\n",
       "      <th>1</th>\n",
       "      <td>20</td>\n",
       "      <td>NaN</td>\n",
       "    </tr>\n",
       "    <tr>\n",
       "      <th>2</th>\n",
       "      <td>30</td>\n",
       "      <td>NaN</td>\n",
       "    </tr>\n",
       "    <tr>\n",
       "      <th>3</th>\n",
       "      <td>40</td>\n",
       "      <td>NaN</td>\n",
       "    </tr>\n",
       "    <tr>\n",
       "      <th>4</th>\n",
       "      <td>50</td>\n",
       "      <td>30.0</td>\n",
       "    </tr>\n",
       "    <tr>\n",
       "      <th>5</th>\n",
       "      <td>60</td>\n",
       "      <td>40.0</td>\n",
       "    </tr>\n",
       "    <tr>\n",
       "      <th>6</th>\n",
       "      <td>70</td>\n",
       "      <td>50.0</td>\n",
       "    </tr>\n",
       "    <tr>\n",
       "      <th>7</th>\n",
       "      <td>80</td>\n",
       "      <td>60.0</td>\n",
       "    </tr>\n",
       "    <tr>\n",
       "      <th>8</th>\n",
       "      <td>90</td>\n",
       "      <td>70.0</td>\n",
       "    </tr>\n",
       "    <tr>\n",
       "      <th>9</th>\n",
       "      <td>100</td>\n",
       "      <td>80.0</td>\n",
       "    </tr>\n",
       "  </tbody>\n",
       "</table>\n",
       "</div>"
      ],
      "text/plain": [
       "     0  MA_5\n",
       "0   10   NaN\n",
       "1   20   NaN\n",
       "2   30   NaN\n",
       "3   40   NaN\n",
       "4   50  30.0\n",
       "5   60  40.0\n",
       "6   70  50.0\n",
       "7   80  60.0\n",
       "8   90  70.0\n",
       "9  100  80.0"
      ]
     },
     "execution_count": 11,
     "metadata": {},
     "output_type": "execute_result"
    }
   ],
   "source": [
    "df1['MA_5'] = df1.rolling(5).mean()\n",
    "df1"
   ]
  },
  {
   "cell_type": "markdown",
   "id": "dd3fbc6d-2313-4611-baa3-482113d2d460",
   "metadata": {},
   "source": [
    "## 100 Days Moving Average"
   ]
  },
  {
   "cell_type": "code",
   "execution_count": null,
   "id": "f5fc3b58-3c5e-4ad4-a620-85748a0a60e6",
   "metadata": {},
   "outputs": [
    {
     "data": {
      "text/html": [
       "<div>\n",
       "<style scoped>\n",
       "    .dataframe tbody tr th:only-of-type {\n",
       "        vertical-align: middle;\n",
       "    }\n",
       "\n",
       "    .dataframe tbody tr th {\n",
       "        vertical-align: top;\n",
       "    }\n",
       "\n",
       "    .dataframe thead tr th {\n",
       "        text-align: left;\n",
       "    }\n",
       "</style>\n",
       "<table border=\"1\" class=\"dataframe\">\n",
       "  <thead>\n",
       "    <tr>\n",
       "      <th>Price</th>\n",
       "      <th>Date</th>\n",
       "      <th>Adj Close</th>\n",
       "      <th>Close</th>\n",
       "      <th>High</th>\n",
       "      <th>Low</th>\n",
       "      <th>Open</th>\n",
       "      <th>Volume</th>\n",
       "      <th>MA_100</th>\n",
       "    </tr>\n",
       "    <tr>\n",
       "      <th>Ticker</th>\n",
       "      <th></th>\n",
       "      <th>AAPL</th>\n",
       "      <th>AAPL</th>\n",
       "      <th>AAPL</th>\n",
       "      <th>AAPL</th>\n",
       "      <th>AAPL</th>\n",
       "      <th>AAPL</th>\n",
       "      <th></th>\n",
       "    </tr>\n",
       "  </thead>\n",
       "  <tbody>\n",
       "    <tr>\n",
       "      <th>0</th>\n",
       "      <td>2015-09-15</td>\n",
       "      <td>26.131084</td>\n",
       "      <td>29.070000</td>\n",
       "      <td>29.132500</td>\n",
       "      <td>28.605000</td>\n",
       "      <td>28.982500</td>\n",
       "      <td>173364800</td>\n",
       "      <td>NaN</td>\n",
       "    </tr>\n",
       "    <tr>\n",
       "      <th>1</th>\n",
       "      <td>2015-09-16</td>\n",
       "      <td>26.160299</td>\n",
       "      <td>29.102501</td>\n",
       "      <td>29.135000</td>\n",
       "      <td>28.860001</td>\n",
       "      <td>29.062500</td>\n",
       "      <td>148694000</td>\n",
       "      <td>NaN</td>\n",
       "    </tr>\n",
       "    <tr>\n",
       "      <th>2</th>\n",
       "      <td>2015-09-17</td>\n",
       "      <td>25.600737</td>\n",
       "      <td>28.480000</td>\n",
       "      <td>29.122499</td>\n",
       "      <td>28.430000</td>\n",
       "      <td>28.915001</td>\n",
       "      <td>256450400</td>\n",
       "      <td>NaN</td>\n",
       "    </tr>\n",
       "    <tr>\n",
       "      <th>3</th>\n",
       "      <td>2015-09-18</td>\n",
       "      <td>25.495111</td>\n",
       "      <td>28.362499</td>\n",
       "      <td>28.575001</td>\n",
       "      <td>27.967501</td>\n",
       "      <td>28.052500</td>\n",
       "      <td>297141200</td>\n",
       "      <td>NaN</td>\n",
       "    </tr>\n",
       "    <tr>\n",
       "      <th>4</th>\n",
       "      <td>2015-09-21</td>\n",
       "      <td>25.890636</td>\n",
       "      <td>28.802500</td>\n",
       "      <td>28.842501</td>\n",
       "      <td>28.415001</td>\n",
       "      <td>28.417500</td>\n",
       "      <td>200888000</td>\n",
       "      <td>NaN</td>\n",
       "    </tr>\n",
       "    <tr>\n",
       "      <th>...</th>\n",
       "      <td>...</td>\n",
       "      <td>...</td>\n",
       "      <td>...</td>\n",
       "      <td>...</td>\n",
       "      <td>...</td>\n",
       "      <td>...</td>\n",
       "      <td>...</td>\n",
       "      <td>...</td>\n",
       "    </tr>\n",
       "    <tr>\n",
       "      <th>98</th>\n",
       "      <td>2016-02-04</td>\n",
       "      <td>21.919714</td>\n",
       "      <td>24.150000</td>\n",
       "      <td>24.332500</td>\n",
       "      <td>23.797501</td>\n",
       "      <td>23.965000</td>\n",
       "      <td>185886800</td>\n",
       "      <td>NaN</td>\n",
       "    </tr>\n",
       "    <tr>\n",
       "      <th>99</th>\n",
       "      <td>2016-02-05</td>\n",
       "      <td>21.334276</td>\n",
       "      <td>23.504999</td>\n",
       "      <td>24.230000</td>\n",
       "      <td>23.422501</td>\n",
       "      <td>24.129999</td>\n",
       "      <td>185672400</td>\n",
       "      <td>27.569225</td>\n",
       "    </tr>\n",
       "    <tr>\n",
       "      <th>100</th>\n",
       "      <td>2016-02-08</td>\n",
       "      <td>21.558926</td>\n",
       "      <td>23.752501</td>\n",
       "      <td>23.924999</td>\n",
       "      <td>23.260000</td>\n",
       "      <td>23.282499</td>\n",
       "      <td>216085600</td>\n",
       "      <td>27.516050</td>\n",
       "    </tr>\n",
       "    <tr>\n",
       "      <th>101</th>\n",
       "      <td>2016-02-09</td>\n",
       "      <td>21.554382</td>\n",
       "      <td>23.747499</td>\n",
       "      <td>23.985001</td>\n",
       "      <td>23.482500</td>\n",
       "      <td>23.572500</td>\n",
       "      <td>177324800</td>\n",
       "      <td>27.462500</td>\n",
       "    </tr>\n",
       "    <tr>\n",
       "      <th>102</th>\n",
       "      <td>2016-02-10</td>\n",
       "      <td>21.391003</td>\n",
       "      <td>23.567499</td>\n",
       "      <td>24.087500</td>\n",
       "      <td>23.525000</td>\n",
       "      <td>23.980000</td>\n",
       "      <td>169374400</td>\n",
       "      <td>27.413375</td>\n",
       "    </tr>\n",
       "  </tbody>\n",
       "</table>\n",
       "<p>103 rows × 8 columns</p>\n",
       "</div>"
      ],
      "text/plain": [
       "Price        Date  Adj Close      Close       High        Low       Open  \\\n",
       "Ticker                  AAPL       AAPL       AAPL       AAPL       AAPL   \n",
       "0      2015-09-15  26.131084  29.070000  29.132500  28.605000  28.982500   \n",
       "1      2015-09-16  26.160299  29.102501  29.135000  28.860001  29.062500   \n",
       "2      2015-09-17  25.600737  28.480000  29.122499  28.430000  28.915001   \n",
       "3      2015-09-18  25.495111  28.362499  28.575001  27.967501  28.052500   \n",
       "4      2015-09-21  25.890636  28.802500  28.842501  28.415001  28.417500   \n",
       "..            ...        ...        ...        ...        ...        ...   \n",
       "98     2016-02-04  21.919714  24.150000  24.332500  23.797501  23.965000   \n",
       "99     2016-02-05  21.334276  23.504999  24.230000  23.422501  24.129999   \n",
       "100    2016-02-08  21.558926  23.752501  23.924999  23.260000  23.282499   \n",
       "101    2016-02-09  21.554382  23.747499  23.985001  23.482500  23.572500   \n",
       "102    2016-02-10  21.391003  23.567499  24.087500  23.525000  23.980000   \n",
       "\n",
       "Price      Volume     MA_100  \n",
       "Ticker       AAPL             \n",
       "0       173364800        NaN  \n",
       "1       148694000        NaN  \n",
       "2       256450400        NaN  \n",
       "3       297141200        NaN  \n",
       "4       200888000        NaN  \n",
       "..            ...        ...  \n",
       "98      185886800        NaN  \n",
       "99      185672400  27.569225  \n",
       "100     216085600  27.516050  \n",
       "101     177324800  27.462500  \n",
       "102     169374400  27.413375  \n",
       "\n",
       "[103 rows x 8 columns]"
      ]
     },
     "execution_count": 12,
     "metadata": {},
     "output_type": "execute_result"
    }
   ],
   "source": [
    "df['MA_100'] = df.Close.rolling(100).mean()\n",
    "df.head(103)"
   ]
  },
  {
   "cell_type": "code",
   "execution_count": null,
   "id": "595911cf-9d37-4033-a725-4e09a2676c9b",
   "metadata": {},
   "outputs": [
    {
     "data": {
      "image/png": "[encoded data removed]",
      "text/plain": [
       "<Figure size 1200x500 with 1 Axes>"
      ]
     },
     "metadata": {},
     "output_type": "display_data"
    }
   ],
   "source": [
    "plt.figure(figsize=(12, 5))\n",
    "plt.plot(df.Close)\n",
    "plt.plot(df['MA_100'], 'r')\n",
    "plt.title('100 Days Moving Average')\n",
    "plt.xlabel('Days');\n",
    "plt.ylabel('Price');"
   ]
  },
  {
   "cell_type": "markdown",
   "id": "28dcc58b-751c-4ca6-9735-b939df9f9bb4",
   "metadata": {},
   "source": [
    "## 200 Days Moving Average"
   ]
  },
  {
   "cell_type": "code",
   "execution_count": null,
   "id": "68739141-7a09-4143-b133-503a102c0b90",
   "metadata": {},
   "outputs": [
    {
     "data": {
      "text/html": [
       "<div>\n",
       "<style scoped>\n",
       "    .dataframe tbody tr th:only-of-type {\n",
       "        vertical-align: middle;\n",
       "    }\n",
       "\n",
       "    .dataframe tbody tr th {\n",
       "        vertical-align: top;\n",
       "    }\n",
       "\n",
       "    .dataframe thead tr th {\n",
       "        text-align: left;\n",
       "    }\n",
       "</style>\n",
       "<table border=\"1\" class=\"dataframe\">\n",
       "  <thead>\n",
       "    <tr>\n",
       "      <th>Price</th>\n",
       "      <th>Date</th>\n",
       "      <th>Adj Close</th>\n",
       "      <th>Close</th>\n",
       "      <th>High</th>\n",
       "      <th>Low</th>\n",
       "      <th>Open</th>\n",
       "      <th>Volume</th>\n",
       "      <th>MA_100</th>\n",
       "      <th>MA_200</th>\n",
       "    </tr>\n",
       "    <tr>\n",
       "      <th>Ticker</th>\n",
       "      <th></th>\n",
       "      <th>AAPL</th>\n",
       "      <th>AAPL</th>\n",
       "      <th>AAPL</th>\n",
       "      <th>AAPL</th>\n",
       "      <th>AAPL</th>\n",
       "      <th>AAPL</th>\n",
       "      <th></th>\n",
       "      <th></th>\n",
       "    </tr>\n",
       "  </thead>\n",
       "  <tbody>\n",
       "    <tr>\n",
       "      <th>0</th>\n",
       "      <td>2015-09-15</td>\n",
       "      <td>26.131084</td>\n",
       "      <td>29.070000</td>\n",
       "      <td>29.132500</td>\n",
       "      <td>28.605000</td>\n",
       "      <td>28.982500</td>\n",
       "      <td>173364800</td>\n",
       "      <td>NaN</td>\n",
       "      <td>NaN</td>\n",
       "    </tr>\n",
       "    <tr>\n",
       "      <th>1</th>\n",
       "      <td>2015-09-16</td>\n",
       "      <td>26.160299</td>\n",
       "      <td>29.102501</td>\n",
       "      <td>29.135000</td>\n",
       "      <td>28.860001</td>\n",
       "      <td>29.062500</td>\n",
       "      <td>148694000</td>\n",
       "      <td>NaN</td>\n",
       "      <td>NaN</td>\n",
       "    </tr>\n",
       "    <tr>\n",
       "      <th>2</th>\n",
       "      <td>2015-09-17</td>\n",
       "      <td>25.600737</td>\n",
       "      <td>28.480000</td>\n",
       "      <td>29.122499</td>\n",
       "      <td>28.430000</td>\n",
       "      <td>28.915001</td>\n",
       "      <td>256450400</td>\n",
       "      <td>NaN</td>\n",
       "      <td>NaN</td>\n",
       "    </tr>\n",
       "    <tr>\n",
       "      <th>3</th>\n",
       "      <td>2015-09-18</td>\n",
       "      <td>25.495111</td>\n",
       "      <td>28.362499</td>\n",
       "      <td>28.575001</td>\n",
       "      <td>27.967501</td>\n",
       "      <td>28.052500</td>\n",
       "      <td>297141200</td>\n",
       "      <td>NaN</td>\n",
       "      <td>NaN</td>\n",
       "    </tr>\n",
       "    <tr>\n",
       "      <th>4</th>\n",
       "      <td>2015-09-21</td>\n",
       "      <td>25.890636</td>\n",
       "      <td>28.802500</td>\n",
       "      <td>28.842501</td>\n",
       "      <td>28.415001</td>\n",
       "      <td>28.417500</td>\n",
       "      <td>200888000</td>\n",
       "      <td>NaN</td>\n",
       "      <td>NaN</td>\n",
       "    </tr>\n",
       "    <tr>\n",
       "      <th>...</th>\n",
       "      <td>...</td>\n",
       "      <td>...</td>\n",
       "      <td>...</td>\n",
       "      <td>...</td>\n",
       "      <td>...</td>\n",
       "      <td>...</td>\n",
       "      <td>...</td>\n",
       "      <td>...</td>\n",
       "      <td>...</td>\n",
       "    </tr>\n",
       "    <tr>\n",
       "      <th>198</th>\n",
       "      <td>2016-06-28</td>\n",
       "      <td>21.366005</td>\n",
       "      <td>23.397499</td>\n",
       "      <td>23.415001</td>\n",
       "      <td>23.035000</td>\n",
       "      <td>23.225000</td>\n",
       "      <td>161779600</td>\n",
       "      <td>24.991575</td>\n",
       "      <td>NaN</td>\n",
       "    </tr>\n",
       "    <tr>\n",
       "      <th>199</th>\n",
       "      <td>2016-06-29</td>\n",
       "      <td>21.550926</td>\n",
       "      <td>23.600000</td>\n",
       "      <td>23.637501</td>\n",
       "      <td>23.407499</td>\n",
       "      <td>23.492500</td>\n",
       "      <td>146124000</td>\n",
       "      <td>24.992525</td>\n",
       "      <td>26.280875</td>\n",
       "    </tr>\n",
       "    <tr>\n",
       "      <th>200</th>\n",
       "      <td>2016-06-30</td>\n",
       "      <td>21.824884</td>\n",
       "      <td>23.900000</td>\n",
       "      <td>23.942499</td>\n",
       "      <td>23.575001</td>\n",
       "      <td>23.610001</td>\n",
       "      <td>143345600</td>\n",
       "      <td>24.994000</td>\n",
       "      <td>26.255025</td>\n",
       "    </tr>\n",
       "    <tr>\n",
       "      <th>201</th>\n",
       "      <td>2016-07-01</td>\n",
       "      <td>21.891079</td>\n",
       "      <td>23.972500</td>\n",
       "      <td>24.117500</td>\n",
       "      <td>23.832500</td>\n",
       "      <td>23.872499</td>\n",
       "      <td>104106000</td>\n",
       "      <td>24.996250</td>\n",
       "      <td>26.229375</td>\n",
       "    </tr>\n",
       "    <tr>\n",
       "      <th>202</th>\n",
       "      <td>2016-07-05</td>\n",
       "      <td>21.685617</td>\n",
       "      <td>23.747499</td>\n",
       "      <td>23.850000</td>\n",
       "      <td>23.615000</td>\n",
       "      <td>23.847500</td>\n",
       "      <td>110820800</td>\n",
       "      <td>24.998050</td>\n",
       "      <td>26.205712</td>\n",
       "    </tr>\n",
       "  </tbody>\n",
       "</table>\n",
       "<p>203 rows × 9 columns</p>\n",
       "</div>"
      ],
      "text/plain": [
       "Price        Date  Adj Close      Close       High        Low       Open  \\\n",
       "Ticker                  AAPL       AAPL       AAPL       AAPL       AAPL   \n",
       "0      2015-09-15  26.131084  29.070000  29.132500  28.605000  28.982500   \n",
       "1      2015-09-16  26.160299  29.102501  29.135000  28.860001  29.062500   \n",
       "2      2015-09-17  25.600737  28.480000  29.122499  28.430000  28.915001   \n",
       "3      2015-09-18  25.495111  28.362499  28.575001  27.967501  28.052500   \n",
       "4      2015-09-21  25.890636  28.802500  28.842501  28.415001  28.417500   \n",
       "..            ...        ...        ...        ...        ...        ...   \n",
       "198    2016-06-28  21.366005  23.397499  23.415001  23.035000  23.225000   \n",
       "199    2016-06-29  21.550926  23.600000  23.637501  23.407499  23.492500   \n",
       "200    2016-06-30  21.824884  23.900000  23.942499  23.575001  23.610001   \n",
       "201    2016-07-01  21.891079  23.972500  24.117500  23.832500  23.872499   \n",
       "202    2016-07-05  21.685617  23.747499  23.850000  23.615000  23.847500   \n",
       "\n",
       "Price      Volume     MA_100     MA_200  \n",
       "Ticker       AAPL                        \n",
       "0       173364800        NaN        NaN  \n",
       "1       148694000        NaN        NaN  \n",
       "2       256450400        NaN        NaN  \n",
       "3       297141200        NaN        NaN  \n",
       "4       200888000        NaN        NaN  \n",
       "..            ...        ...        ...  \n",
       "198     161779600  24.991575        NaN  \n",
       "199     146124000  24.992525  26.280875  \n",
       "200     143345600  24.994000  26.255025  \n",
       "201     104106000  24.996250  26.229375  \n",
       "202     110820800  24.998050  26.205712  \n",
       "\n",
       "[203 rows x 9 columns]"
      ]
     },
     "execution_count": 14,
     "metadata": {},
     "output_type": "execute_result"
    }
   ],
   "source": [
    "df['MA_200'] = df.Close.rolling(200).mean()\n",
    "df.head(203)"
   ]
  },
  {
   "cell_type": "code",
   "execution_count": null,
   "id": "e904b95b-0285-47c1-b8f3-65372995f965",
   "metadata": {},
   "outputs": [
    {
     "data": {
      "image/png": "[encoded data removed]",
      "text/plain": [
       "<Figure size 1200x500 with 1 Axes>"
      ]
     },
     "metadata": {},
     "output_type": "display_data"
    }
   ],
   "source": [
    "plt.figure(figsize=(12, 5))\n",
    "plt.plot(df.Close)\n",
    "plt.plot(df['MA_100'], 'r')\n",
    "plt.plot(df['MA_200'], 'g')\n",
    "plt.title('200 Days Moving Average')\n",
    "plt.xlabel('Days');\n",
    "plt.ylabel('Price');"
   ]
  },
  {
   "cell_type": "code",
   "execution_count": null,
   "id": "18738c5f-eb93-4897-951b-76ecc809bfec",
   "metadata": {},
   "outputs": [
    {
     "data": {
      "text/html": [
       "<div>\n",
       "<style scoped>\n",
       "    .dataframe tbody tr th:only-of-type {\n",
       "        vertical-align: middle;\n",
       "    }\n",
       "\n",
       "    .dataframe tbody tr th {\n",
       "        vertical-align: top;\n",
       "    }\n",
       "\n",
       "    .dataframe thead tr th {\n",
       "        text-align: left;\n",
       "    }\n",
       "</style>\n",
       "<table border=\"1\" class=\"dataframe\">\n",
       "  <thead>\n",
       "    <tr>\n",
       "      <th>Price</th>\n",
       "      <th>Date</th>\n",
       "      <th>Adj Close</th>\n",
       "      <th>Close</th>\n",
       "      <th>High</th>\n",
       "      <th>Low</th>\n",
       "      <th>Open</th>\n",
       "      <th>Volume</th>\n",
       "      <th>MA_100</th>\n",
       "      <th>MA_200</th>\n",
       "    </tr>\n",
       "    <tr>\n",
       "      <th>Ticker</th>\n",
       "      <th></th>\n",
       "      <th>AAPL</th>\n",
       "      <th>AAPL</th>\n",
       "      <th>AAPL</th>\n",
       "      <th>AAPL</th>\n",
       "      <th>AAPL</th>\n",
       "      <th>AAPL</th>\n",
       "      <th></th>\n",
       "      <th></th>\n",
       "    </tr>\n",
       "  </thead>\n",
       "  <tbody>\n",
       "    <tr>\n",
       "      <th>0</th>\n",
       "      <td>2015-09-15</td>\n",
       "      <td>26.131084</td>\n",
       "      <td>29.070000</td>\n",
       "      <td>29.132500</td>\n",
       "      <td>28.605000</td>\n",
       "      <td>28.982500</td>\n",
       "      <td>173364800</td>\n",
       "      <td>NaN</td>\n",
       "      <td>NaN</td>\n",
       "    </tr>\n",
       "    <tr>\n",
       "      <th>1</th>\n",
       "      <td>2015-09-16</td>\n",
       "      <td>26.160299</td>\n",
       "      <td>29.102501</td>\n",
       "      <td>29.135000</td>\n",
       "      <td>28.860001</td>\n",
       "      <td>29.062500</td>\n",
       "      <td>148694000</td>\n",
       "      <td>NaN</td>\n",
       "      <td>NaN</td>\n",
       "    </tr>\n",
       "    <tr>\n",
       "      <th>2</th>\n",
       "      <td>2015-09-17</td>\n",
       "      <td>25.600737</td>\n",
       "      <td>28.480000</td>\n",
       "      <td>29.122499</td>\n",
       "      <td>28.430000</td>\n",
       "      <td>28.915001</td>\n",
       "      <td>256450400</td>\n",
       "      <td>NaN</td>\n",
       "      <td>NaN</td>\n",
       "    </tr>\n",
       "    <tr>\n",
       "      <th>3</th>\n",
       "      <td>2015-09-18</td>\n",
       "      <td>25.495111</td>\n",
       "      <td>28.362499</td>\n",
       "      <td>28.575001</td>\n",
       "      <td>27.967501</td>\n",
       "      <td>28.052500</td>\n",
       "      <td>297141200</td>\n",
       "      <td>NaN</td>\n",
       "      <td>NaN</td>\n",
       "    </tr>\n",
       "    <tr>\n",
       "      <th>4</th>\n",
       "      <td>2015-09-21</td>\n",
       "      <td>25.890636</td>\n",
       "      <td>28.802500</td>\n",
       "      <td>28.842501</td>\n",
       "      <td>28.415001</td>\n",
       "      <td>28.417500</td>\n",
       "      <td>200888000</td>\n",
       "      <td>NaN</td>\n",
       "      <td>NaN</td>\n",
       "    </tr>\n",
       "    <tr>\n",
       "      <th>...</th>\n",
       "      <td>...</td>\n",
       "      <td>...</td>\n",
       "      <td>...</td>\n",
       "      <td>...</td>\n",
       "      <td>...</td>\n",
       "      <td>...</td>\n",
       "      <td>...</td>\n",
       "      <td>...</td>\n",
       "      <td>...</td>\n",
       "    </tr>\n",
       "    <tr>\n",
       "      <th>2510</th>\n",
       "      <td>2025-09-09</td>\n",
       "      <td>234.350006</td>\n",
       "      <td>234.350006</td>\n",
       "      <td>238.779999</td>\n",
       "      <td>233.360001</td>\n",
       "      <td>237.000000</td>\n",
       "      <td>66313900</td>\n",
       "      <td>211.2194</td>\n",
       "      <td>221.49225</td>\n",
       "    </tr>\n",
       "    <tr>\n",
       "      <th>2511</th>\n",
       "      <td>2025-09-10</td>\n",
       "      <td>226.789993</td>\n",
       "      <td>226.789993</td>\n",
       "      <td>232.419998</td>\n",
       "      <td>225.949997</td>\n",
       "      <td>232.190002</td>\n",
       "      <td>83440800</td>\n",
       "      <td>211.5446</td>\n",
       "      <td>221.48480</td>\n",
       "    </tr>\n",
       "    <tr>\n",
       "      <th>2512</th>\n",
       "      <td>2025-09-11</td>\n",
       "      <td>230.029999</td>\n",
       "      <td>230.029999</td>\n",
       "      <td>230.449997</td>\n",
       "      <td>226.649994</td>\n",
       "      <td>226.880005</td>\n",
       "      <td>50208600</td>\n",
       "      <td>211.8751</td>\n",
       "      <td>221.48995</td>\n",
       "    </tr>\n",
       "    <tr>\n",
       "      <th>2513</th>\n",
       "      <td>2025-09-12</td>\n",
       "      <td>234.070007</td>\n",
       "      <td>234.070007</td>\n",
       "      <td>234.509995</td>\n",
       "      <td>229.020004</td>\n",
       "      <td>229.220001</td>\n",
       "      <td>55776500</td>\n",
       "      <td>212.2842</td>\n",
       "      <td>221.51770</td>\n",
       "    </tr>\n",
       "    <tr>\n",
       "      <th>2514</th>\n",
       "      <td>2025-09-15</td>\n",
       "      <td>236.960007</td>\n",
       "      <td>236.960007</td>\n",
       "      <td>238.190002</td>\n",
       "      <td>235.029999</td>\n",
       "      <td>237.000000</td>\n",
       "      <td>20687451</td>\n",
       "      <td>212.6564</td>\n",
       "      <td>221.55315</td>\n",
       "    </tr>\n",
       "  </tbody>\n",
       "</table>\n",
       "<p>2515 rows × 9 columns</p>\n",
       "</div>"
      ],
      "text/plain": [
       "Price        Date   Adj Close       Close        High         Low        Open  \\\n",
       "Ticker                   AAPL        AAPL        AAPL        AAPL        AAPL   \n",
       "0      2015-09-15   26.131084   29.070000   29.132500   28.605000   28.982500   \n",
       "1      2015-09-16   26.160299   29.102501   29.135000   28.860001   29.062500   \n",
       "2      2015-09-17   25.600737   28.480000   29.122499   28.430000   28.915001   \n",
       "3      2015-09-18   25.495111   28.362499   28.575001   27.967501   28.052500   \n",
       "4      2015-09-21   25.890636   28.802500   28.842501   28.415001   28.417500   \n",
       "...           ...         ...         ...         ...         ...         ...   \n",
       "2510   2025-09-09  234.350006  234.350006  238.779999  233.360001  237.000000   \n",
       "2511   2025-09-10  226.789993  226.789993  232.419998  225.949997  232.190002   \n",
       "2512   2025-09-11  230.029999  230.029999  230.449997  226.649994  226.880005   \n",
       "2513   2025-09-12  234.070007  234.070007  234.509995  229.020004  229.220001   \n",
       "2514   2025-09-15  236.960007  236.960007  238.190002  235.029999  237.000000   \n",
       "\n",
       "Price      Volume    MA_100     MA_200  \n",
       "Ticker       AAPL                       \n",
       "0       173364800       NaN        NaN  \n",
       "1       148694000       NaN        NaN  \n",
       "2       256450400       NaN        NaN  \n",
       "3       297141200       NaN        NaN  \n",
       "4       200888000       NaN        NaN  \n",
       "...           ...       ...        ...  \n",
       "2510     66313900  211.2194  221.49225  \n",
       "2511     83440800  211.5446  221.48480  \n",
       "2512     50208600  211.8751  221.48995  \n",
       "2513     55776500  212.2842  221.51770  \n",
       "2514     20687451  212.6564  221.55315  \n",
       "\n",
       "[2515 rows x 9 columns]"
      ]
     },
     "execution_count": 16,
     "metadata": {},
     "output_type": "execute_result"
    }
   ],
   "source": [
    "df"
   ]
  },
  {
   "cell_type": "markdown",
   "id": "30687236-df72-4af2-abd6-a67600c40d15",
   "metadata": {},
   "source": [
    "## Calculating % Changed in each trading session"
   ]
  },
  {
   "cell_type": "code",
   "execution_count": null,
   "id": "77fafac3-49cd-45bb-80e5-88176e60f784",
   "metadata": {},
   "outputs": [
    {
     "data": {
      "text/html": [
       "<div>\n",
       "<style scoped>\n",
       "    .dataframe tbody tr th:only-of-type {\n",
       "        vertical-align: middle;\n",
       "    }\n",
       "\n",
       "    .dataframe tbody tr th {\n",
       "        vertical-align: top;\n",
       "    }\n",
       "\n",
       "    .dataframe thead tr th {\n",
       "        text-align: left;\n",
       "    }\n",
       "</style>\n",
       "<table border=\"1\" class=\"dataframe\">\n",
       "  <thead>\n",
       "    <tr>\n",
       "      <th>Price</th>\n",
       "      <th>Close</th>\n",
       "      <th>Percentage Chaged</th>\n",
       "    </tr>\n",
       "    <tr>\n",
       "      <th>Ticker</th>\n",
       "      <th>AAPL</th>\n",
       "      <th></th>\n",
       "    </tr>\n",
       "  </thead>\n",
       "  <tbody>\n",
       "    <tr>\n",
       "      <th>0</th>\n",
       "      <td>29.070000</td>\n",
       "      <td>NaN</td>\n",
       "    </tr>\n",
       "    <tr>\n",
       "      <th>1</th>\n",
       "      <td>29.102501</td>\n",
       "      <td>0.001118</td>\n",
       "    </tr>\n",
       "    <tr>\n",
       "      <th>2</th>\n",
       "      <td>28.480000</td>\n",
       "      <td>-0.021390</td>\n",
       "    </tr>\n",
       "    <tr>\n",
       "      <th>3</th>\n",
       "      <td>28.362499</td>\n",
       "      <td>-0.004126</td>\n",
       "    </tr>\n",
       "    <tr>\n",
       "      <th>4</th>\n",
       "      <td>28.802500</td>\n",
       "      <td>0.015513</td>\n",
       "    </tr>\n",
       "    <tr>\n",
       "      <th>...</th>\n",
       "      <td>...</td>\n",
       "      <td>...</td>\n",
       "    </tr>\n",
       "    <tr>\n",
       "      <th>2510</th>\n",
       "      <td>234.350006</td>\n",
       "      <td>-0.014839</td>\n",
       "    </tr>\n",
       "    <tr>\n",
       "      <th>2511</th>\n",
       "      <td>226.789993</td>\n",
       "      <td>-0.032259</td>\n",
       "    </tr>\n",
       "    <tr>\n",
       "      <th>2512</th>\n",
       "      <td>230.029999</td>\n",
       "      <td>0.014286</td>\n",
       "    </tr>\n",
       "    <tr>\n",
       "      <th>2513</th>\n",
       "      <td>234.070007</td>\n",
       "      <td>0.017563</td>\n",
       "    </tr>\n",
       "    <tr>\n",
       "      <th>2514</th>\n",
       "      <td>236.960007</td>\n",
       "      <td>0.012347</td>\n",
       "    </tr>\n",
       "  </tbody>\n",
       "</table>\n",
       "<p>2515 rows × 2 columns</p>\n",
       "</div>"
      ],
      "text/plain": [
       "Price        Close Percentage Chaged\n",
       "Ticker        AAPL                  \n",
       "0        29.070000               NaN\n",
       "1        29.102501          0.001118\n",
       "2        28.480000         -0.021390\n",
       "3        28.362499         -0.004126\n",
       "4        28.802500          0.015513\n",
       "...            ...               ...\n",
       "2510    234.350006         -0.014839\n",
       "2511    226.789993         -0.032259\n",
       "2512    230.029999          0.014286\n",
       "2513    234.070007          0.017563\n",
       "2514    236.960007          0.012347\n",
       "\n",
       "[2515 rows x 2 columns]"
      ]
     },
     "execution_count": 17,
     "metadata": {},
     "output_type": "execute_result"
    }
   ],
   "source": [
    "df['Percentage Chaged'] = df.Close.pct_change()\n",
    "df[['Close', 'Percentage Chaged']]"
   ]
  },
  {
   "cell_type": "code",
   "execution_count": null,
   "id": "94e11b84-76ef-4d68-a941-8ef872010d70",
   "metadata": {},
   "outputs": [
    {
     "data": {
      "image/png": "[encoded data removed]",
      "text/plain": [
       "<Figure size 1200x500 with 1 Axes>"
      ]
     },
     "metadata": {},
     "output_type": "display_data"
    }
   ],
   "source": [
    "plt.figure(figsize=(12, 5))\n",
    "plt.plot(df['Percentage Chaged']);"
   ]
  },
  {
   "cell_type": "markdown",
   "id": "9049b4c5-ec85-4846-958d-ac714050862e",
   "metadata": {},
   "source": [
    "# 4. Data Preprocessing"
   ]
  },
  {
   "cell_type": "code",
   "execution_count": null,
   "id": "ee5d9141-2c40-4a47-9d90-d3d1ccb019c6",
   "metadata": {},
   "outputs": [
    {
     "data": {
      "text/plain": [
       "(2515, 10)"
      ]
     },
     "execution_count": 19,
     "metadata": {},
     "output_type": "execute_result"
    }
   ],
   "source": [
    "df.shape"
   ]
  },
  {
   "cell_type": "code",
   "execution_count": null,
   "id": "74416ab7-04c7-406c-8f20-6d2eb7b1a405",
   "metadata": {},
   "outputs": [],
   "source": [
    "# Splitting Data into Training and Testing Datasets\n",
    "\n",
    "data_training = pd.DataFrame(df.Close[0:int(len(df)*0.7)])\n",
    "data_testing = pd.DataFrame(df.Close[int(len(df)*0.7): int(len(df))])"
   ]
  },
  {
   "cell_type": "code",
   "execution_count": null,
   "id": "52bfdf57-d396-4a69-abc9-59e35d988447",
   "metadata": {},
   "outputs": [
    {
     "data": {
      "text/plain": [
       "pandas.core.frame.DataFrame"
      ]
     },
     "execution_count": 21,
     "metadata": {},
     "output_type": "execute_result"
    }
   ],
   "source": [
    "type(data_training)"
   ]
  },
  {
   "cell_type": "code",
   "execution_count": null,
   "id": "c2c952d7-6586-4c50-a5ba-e04842a45af3",
   "metadata": {},
   "outputs": [
    {
     "data": {
      "text/plain": [
       "pandas.core.frame.DataFrame"
      ]
     },
     "execution_count": 22,
     "metadata": {},
     "output_type": "execute_result"
    }
   ],
   "source": [
    "type(data_testing)"
   ]
  },
  {
   "cell_type": "code",
   "execution_count": null,
   "id": "65055fdc-1369-46b4-8b6c-c8f8c5c11e51",
   "metadata": {},
   "outputs": [
    {
     "data": {
      "text/html": [
       "<div>\n",
       "<style scoped>\n",
       "    .dataframe tbody tr th:only-of-type {\n",
       "        vertical-align: middle;\n",
       "    }\n",
       "\n",
       "    .dataframe tbody tr th {\n",
       "        vertical-align: top;\n",
       "    }\n",
       "\n",
       "    .dataframe thead th {\n",
       "        text-align: right;\n",
       "    }\n",
       "</style>\n",
       "<table border=\"1\" class=\"dataframe\">\n",
       "  <thead>\n",
       "    <tr style=\"text-align: right;\">\n",
       "      <th>Ticker</th>\n",
       "      <th>AAPL</th>\n",
       "    </tr>\n",
       "  </thead>\n",
       "  <tbody>\n",
       "    <tr>\n",
       "      <th>0</th>\n",
       "      <td>29.070000</td>\n",
       "    </tr>\n",
       "    <tr>\n",
       "      <th>1</th>\n",
       "      <td>29.102501</td>\n",
       "    </tr>\n",
       "    <tr>\n",
       "      <th>2</th>\n",
       "      <td>28.480000</td>\n",
       "    </tr>\n",
       "    <tr>\n",
       "      <th>3</th>\n",
       "      <td>28.362499</td>\n",
       "    </tr>\n",
       "    <tr>\n",
       "      <th>4</th>\n",
       "      <td>28.802500</td>\n",
       "    </tr>\n",
       "    <tr>\n",
       "      <th>...</th>\n",
       "      <td>...</td>\n",
       "    </tr>\n",
       "    <tr>\n",
       "      <th>1755</th>\n",
       "      <td>155.809998</td>\n",
       "    </tr>\n",
       "    <tr>\n",
       "      <th>1756</th>\n",
       "      <td>154.529999</td>\n",
       "    </tr>\n",
       "    <tr>\n",
       "      <th>1757</th>\n",
       "      <td>155.960007</td>\n",
       "    </tr>\n",
       "    <tr>\n",
       "      <th>1758</th>\n",
       "      <td>154.460007</td>\n",
       "    </tr>\n",
       "    <tr>\n",
       "      <th>1759</th>\n",
       "      <td>157.369995</td>\n",
       "    </tr>\n",
       "  </tbody>\n",
       "</table>\n",
       "<p>1760 rows × 1 columns</p>\n",
       "</div>"
      ],
      "text/plain": [
       "Ticker        AAPL\n",
       "0        29.070000\n",
       "1        29.102501\n",
       "2        28.480000\n",
       "3        28.362499\n",
       "4        28.802500\n",
       "...            ...\n",
       "1755    155.809998\n",
       "1756    154.529999\n",
       "1757    155.960007\n",
       "1758    154.460007\n",
       "1759    157.369995\n",
       "\n",
       "[1760 rows x 1 columns]"
      ]
     },
     "execution_count": 23,
     "metadata": {},
     "output_type": "execute_result"
    }
   ],
   "source": [
    "data_training"
   ]
  },
  {
   "cell_type": "code",
   "execution_count": null,
   "id": "42547365-268c-43e6-b676-c94986ad53d5",
   "metadata": {},
   "outputs": [
    {
     "data": {
      "text/html": [
       "<div>\n",
       "<style scoped>\n",
       "    .dataframe tbody tr th:only-of-type {\n",
       "        vertical-align: middle;\n",
       "    }\n",
       "\n",
       "    .dataframe tbody tr th {\n",
       "        vertical-align: top;\n",
       "    }\n",
       "\n",
       "    .dataframe thead th {\n",
       "        text-align: right;\n",
       "    }\n",
       "</style>\n",
       "<table border=\"1\" class=\"dataframe\">\n",
       "  <thead>\n",
       "    <tr style=\"text-align: right;\">\n",
       "      <th>Ticker</th>\n",
       "      <th>AAPL</th>\n",
       "    </tr>\n",
       "  </thead>\n",
       "  <tbody>\n",
       "    <tr>\n",
       "      <th>1760</th>\n",
       "      <td>163.429993</td>\n",
       "    </tr>\n",
       "    <tr>\n",
       "      <th>1761</th>\n",
       "      <td>153.839996</td>\n",
       "    </tr>\n",
       "    <tr>\n",
       "      <th>1762</th>\n",
       "      <td>155.309998</td>\n",
       "    </tr>\n",
       "    <tr>\n",
       "      <th>1763</th>\n",
       "      <td>152.369995</td>\n",
       "    </tr>\n",
       "    <tr>\n",
       "      <th>1764</th>\n",
       "      <td>150.699997</td>\n",
       "    </tr>\n",
       "    <tr>\n",
       "      <th>...</th>\n",
       "      <td>...</td>\n",
       "    </tr>\n",
       "    <tr>\n",
       "      <th>2510</th>\n",
       "      <td>234.350006</td>\n",
       "    </tr>\n",
       "    <tr>\n",
       "      <th>2511</th>\n",
       "      <td>226.789993</td>\n",
       "    </tr>\n",
       "    <tr>\n",
       "      <th>2512</th>\n",
       "      <td>230.029999</td>\n",
       "    </tr>\n",
       "    <tr>\n",
       "      <th>2513</th>\n",
       "      <td>234.070007</td>\n",
       "    </tr>\n",
       "    <tr>\n",
       "      <th>2514</th>\n",
       "      <td>236.960007</td>\n",
       "    </tr>\n",
       "  </tbody>\n",
       "</table>\n",
       "<p>755 rows × 1 columns</p>\n",
       "</div>"
      ],
      "text/plain": [
       "Ticker        AAPL\n",
       "1760    163.429993\n",
       "1761    153.839996\n",
       "1762    155.309998\n",
       "1763    152.369995\n",
       "1764    150.699997\n",
       "...            ...\n",
       "2510    234.350006\n",
       "2511    226.789993\n",
       "2512    230.029999\n",
       "2513    234.070007\n",
       "2514    236.960007\n",
       "\n",
       "[755 rows x 1 columns]"
      ]
     },
     "execution_count": 24,
     "metadata": {},
     "output_type": "execute_result"
    }
   ],
   "source": [
    "data_testing"
   ]
  },
  {
   "cell_type": "markdown",
   "id": "08b216c2-0356-4fb2-b692-45fa186e08c5",
   "metadata": {},
   "source": [
    "## Scaling down the data between 0 and 1"
   ]
  },
  {
   "cell_type": "code",
   "execution_count": null,
   "id": "be42ec32-47e6-44ce-be4b-ea1988213ca5",
   "metadata": {},
   "outputs": [],
   "source": [
    "from sklearn.preprocessing import MinMaxScaler\n",
    "\n",
    "scaler = MinMaxScaler(feature_range=(0,1))"
   ]
  },
  {
   "cell_type": "code",
   "execution_count": null,
   "id": "3912262e-7564-4869-b232-984a86473b17",
   "metadata": {},
   "outputs": [
    {
     "data": {
      "text/plain": [
       "array([[0.04067744],\n",
       "       [0.0408813 ],\n",
       "       [0.03697664],\n",
       "       ...,\n",
       "       [0.83660035],\n",
       "       [0.82719154],\n",
       "       [0.84544457]], shape=(1760, 1))"
      ]
     },
     "execution_count": 26,
     "metadata": {},
     "output_type": "execute_result"
    }
   ],
   "source": [
    "data_training_array = scaler.fit_transform(data_training)\n",
    "data_training_array"
   ]
  },
  {
   "cell_type": "code",
   "execution_count": null,
   "id": "38a39215-0934-4750-aafa-929ffa428307",
   "metadata": {},
   "outputs": [
    {
     "data": {
      "text/plain": [
       "numpy.ndarray"
      ]
     },
     "execution_count": 27,
     "metadata": {},
     "output_type": "execute_result"
    }
   ],
   "source": [
    "type(data_training_array)"
   ]
  },
  {
   "cell_type": "code",
   "execution_count": null,
   "id": "a9d9c6ca-1c95-4159-ab09-3094812ed632",
   "metadata": {},
   "outputs": [
    {
     "data": {
      "text/plain": [
       "(1760, 1)"
      ]
     },
     "execution_count": 28,
     "metadata": {},
     "output_type": "execute_result"
    }
   ],
   "source": [
    "data_training_array.shape"
   ]
  },
  {
   "cell_type": "markdown",
   "id": "bbc34e08-2c04-4545-9604-474d6167cf79",
   "metadata": {},
   "source": [
    "# 5. Sequence Creation"
   ]
  },
  {
   "cell_type": "code",
   "execution_count": null,
   "id": "6597e628-99cf-48b7-ae94-47bfda3ecb6e",
   "metadata": {},
   "outputs": [],
   "source": [
    "x_train = []\n",
    "y_train = []\n",
    "\n",
    "for i in range(100, data_training_array.shape[0]):\n",
    "    x_train.append(data_training_array[i-100: i])\n",
    "    y_train.append(data_training_array[i, 0])\n",
    "\n",
    "\n",
    "x_train, y_train = np.array(x_train), np.array(y_train)"
   ]
  },
  {
   "cell_type": "code",
   "execution_count": null,
   "id": "795049ca-fad3-4f47-afa0-ef087e5e8865",
   "metadata": {},
   "outputs": [
    {
     "data": {
      "text/plain": [
       "array([[[0.04067744],\n",
       "        [0.0408813 ],\n",
       "        [0.03697664],\n",
       "        ...,\n",
       "        [0.0094245 ],\n",
       "        [0.00981653],\n",
       "        [0.00577074]],\n",
       "\n",
       "       [[0.0408813 ],\n",
       "        [0.03697664],\n",
       "        [0.03623961],\n",
       "        ...,\n",
       "        [0.00981653],\n",
       "        [0.00577074],\n",
       "        [0.0073232 ]],\n",
       "\n",
       "       [[0.03697664],\n",
       "        [0.03623961],\n",
       "        [0.03899953],\n",
       "        ...,\n",
       "        [0.00577074],\n",
       "        [0.0073232 ],\n",
       "        [0.00729183]],\n",
       "\n",
       "       ...,\n",
       "\n",
       "       [[0.92717578],\n",
       "        [0.89512309],\n",
       "        [0.89374322],\n",
       "        ...,\n",
       "        [0.84914544],\n",
       "        [0.83565942],\n",
       "        [0.82763057]],\n",
       "\n",
       "       [[0.89512309],\n",
       "        [0.89374322],\n",
       "        [0.90835816],\n",
       "        ...,\n",
       "        [0.83565942],\n",
       "        [0.82763057],\n",
       "        [0.83660035]],\n",
       "\n",
       "       [[0.89374322],\n",
       "        [0.90835816],\n",
       "        [0.90729184],\n",
       "        ...,\n",
       "        [0.82763057],\n",
       "        [0.83660035],\n",
       "        [0.82719154]]], shape=(1660, 100, 1))"
      ]
     },
     "execution_count": 30,
     "metadata": {},
     "output_type": "execute_result"
    }
   ],
   "source": [
    "x_train"
   ]
  },
  {
   "cell_type": "code",
   "execution_count": null,
   "id": "a52b7b0a-94be-49de-b0f5-f3c0b7cbe43d",
   "metadata": {},
   "outputs": [
    {
     "data": {
      "text/plain": [
       "array([0.0073232 , 0.00729183, 0.00616277, ..., 0.83660035, 0.82719154,\n",
       "       0.84544457], shape=(1660,))"
      ]
     },
     "execution_count": 31,
     "metadata": {},
     "output_type": "execute_result"
    }
   ],
   "source": [
    "y_train"
   ]
  },
  {
   "cell_type": "code",
   "execution_count": null,
   "id": "d2dd72de-fd45-4cc5-aafa-26f6c06fb78e",
   "metadata": {},
   "outputs": [
    {
     "data": {
      "text/plain": [
       "(1660, 100, 1)"
      ]
     },
     "execution_count": 32,
     "metadata": {},
     "output_type": "execute_result"
    }
   ],
   "source": [
    "x_train.shape"
   ]
  },
  {
   "cell_type": "code",
   "execution_count": null,
   "id": "2c833fda-2284-420b-88aa-7a879e310dd6",
   "metadata": {},
   "outputs": [
    {
     "data": {
      "text/plain": [
       "(1660,)"
      ]
     },
     "execution_count": 33,
     "metadata": {},
     "output_type": "execute_result"
    }
   ],
   "source": [
    "y_train.shape"
   ]
  },
  {
   "cell_type": "code",
   "execution_count": null,
   "id": "8efa401c-0260-4e46-b19c-90dfdaf216fa",
   "metadata": {},
   "outputs": [
    {
     "data": {
      "text/plain": [
       "3"
      ]
     },
     "execution_count": 34,
     "metadata": {},
     "output_type": "execute_result"
    }
   ],
   "source": [
    "x_train.ndim"
   ]
  },
  {
   "cell_type": "markdown",
   "id": "6198e40b-3180-4d73-9d9b-76f4c51ef4d6",
   "metadata": {},
   "source": [
    "# 6. Model Building"
   ]
  },
  {
   "cell_type": "code",
   "execution_count": null,
   "id": "834b1803-7f20-4af9-87a5-b356d9941540",
   "metadata": {},
   "outputs": [
    {
     "name": "stdout",
     "output_type": "stream",
     "text": [
      "2.20.0\n"
     ]
    }
   ],
   "source": [
    "import tensorflow as tf\n",
    "print(tf.__version__)"
   ]
  },
  {
   "cell_type": "code",
   "execution_count": 2,
   "id": "fff7a95f-0ff5-461f-ab18-035686ca5d4b",
   "metadata": {},
   "outputs": [],
   "source": [
    "# ML Model\n",
    "from keras.models import Sequential\n",
    "from keras.layers import Dense, LSTM, Input"
   ]
  },
  {
   "cell_type": "code",
   "execution_count": 3,
   "id": "8375b4fe-51ee-470e-9364-4ef65fca8e9c",
   "metadata": {},
   "outputs": [],
   "source": [
    "model = Sequential()\n",
    "\n",
    "model.add(Input(shape=(100, 1)))\n",
    "model.add(LSTM(units=128, activation='tanh', return_sequences=True))\n",
    "model.add(LSTM(units=64))\n",
    "model.add(Dense(25))\n",
    "model.add(Dense(1))"
   ]
  },
  {
   "cell_type": "markdown",
   "id": "61de22fe-a856-49c4-9e6a-2ee8c29e9526",
   "metadata": {},
   "source": [
    "# 7. Model Training"
   ]
  },
  {
   "cell_type": "code",
   "execution_count": 4,
   "id": "5c4476fd-d9f9-49f5-b3af-d8041cd7b6e3",
   "metadata": {
    "scrolled": true
   },
   "outputs": [
    {
     "ename": "NameError",
     "evalue": "name 'x_train' is not defined",
     "output_type": "error",
     "traceback": [
      "\u001b[31m---------------------------------------------------------------------------\u001b[39m",
      "\u001b[31mNameError\u001b[39m                                 Traceback (most recent call last)",
      "\u001b[36mCell\u001b[39m\u001b[36m \u001b[39m\u001b[32mIn[4]\u001b[39m\u001b[32m, line 2\u001b[39m\n\u001b[32m      1\u001b[39m model.compile(optimizer=\u001b[33m'\u001b[39m\u001b[33madam\u001b[39m\u001b[33m'\u001b[39m, loss=\u001b[33m'\u001b[39m\u001b[33mmean_squared_error\u001b[39m\u001b[33m'\u001b[39m)\n\u001b[32m----> \u001b[39m\u001b[32m2\u001b[39m model.fit(\u001b[43mx_train\u001b[49m, y_train, epochs=\u001b[32m50\u001b[39m)\n",
      "\u001b[31mNameError\u001b[39m: name 'x_train' is not defined"
     ]
    }
   ],
   "source": [
    "model.compile(optimizer='adam', loss='mean_squared_error')\n",
    "model.fit(x_train, y_train, epochs=50)"
   ]
  },
  {
   "cell_type": "code",
   "execution_count": null,
   "id": "d784ad0a-d8d1-43c0-bfb3-a83ee7e7e000",
   "metadata": {},
   "outputs": [],
   "source": [
    "model.summary()"
   ]
  },
  {
   "cell_type": "code",
   "execution_count": null,
   "id": "d64f6ddc-d608-415d-99cb-9642ddefb352",
   "metadata": {},
   "outputs": [],
   "source": [
    "# Save the trained model\n",
    "model.save('stock_prediction_model.keras')"
   ]
  },
  {
   "cell_type": "markdown",
   "id": "3254e784-dc3a-4a17-a1d7-8d6fa09811ab",
   "metadata": {},
   "source": [
    "# 8. Preparing Test Data"
   ]
  },
  {
   "cell_type": "code",
   "execution_count": null,
   "id": "10d6bf87-4b00-404e-a976-8354d5d3cb5f",
   "metadata": {},
   "outputs": [],
   "source": [
    "data_training.tail(100)"
   ]
  },
  {
   "cell_type": "code",
   "execution_count": null,
   "id": "d8b55064-97c5-4bfb-88f4-49a4f3cccd0f",
   "metadata": {},
   "outputs": [],
   "source": [
    "data_testing"
   ]
  },
  {
   "cell_type": "code",
   "execution_count": null,
   "id": "3f36cf20-8027-418a-88ca-eee4e228ac85",
   "metadata": {},
   "outputs": [],
   "source": [
    "past_100_days = data_training.tail(100)"
   ]
  },
  {
   "cell_type": "code",
   "execution_count": null,
   "id": "b71b49b5-a185-4bff-b0c3-e81cd696dc18",
   "metadata": {},
   "outputs": [],
   "source": [
    "past_100_days"
   ]
  },
  {
   "cell_type": "code",
   "execution_count": null,
   "id": "637c7c09-13a1-4600-9531-5dd6f413339d",
   "metadata": {},
   "outputs": [],
   "source": [
    "final_df = pd.concat([past_100_days, data_testing], ignore_index=True)\n",
    "final_df"
   ]
  },
  {
   "cell_type": "code",
   "execution_count": null,
   "id": "0f343f9a-d01a-4350-964b-614fee623120",
   "metadata": {},
   "outputs": [],
   "source": [
    "input_data = scaler.fit_transform(final_df)\n",
    "# input_data"
   ]
  },
  {
   "cell_type": "code",
   "execution_count": null,
   "id": "f5e7a792-b7f5-4e3d-8499-d3ad26979303",
   "metadata": {},
   "outputs": [],
   "source": [
    "input_data.shape"
   ]
  },
  {
   "cell_type": "code",
   "execution_count": null,
   "id": "d041ba0b-d38b-42b8-a776-6084f7e6c3ef",
   "metadata": {},
   "outputs": [],
   "source": [
    "x_test = []\n",
    "y_test = []\n",
    "\n",
    "for i in range(100, input_data.shape[0]):\n",
    "    x_test.append(input_data[i-100: i])\n",
    "    y_test.append(input_data[i, 0])"
   ]
  },
  {
   "cell_type": "code",
   "execution_count": null,
   "id": "2cd82be1-d1c2-432a-b675-8c8e2421da47",
   "metadata": {},
   "outputs": [],
   "source": [
    "x_test, y_test = np.array(x_test), np.array(y_test)"
   ]
  },
  {
   "cell_type": "code",
   "execution_count": null,
   "id": "668b3b46-954f-4a76-b62f-fd275020ba7f",
   "metadata": {},
   "outputs": [],
   "source": [
    "x_test[0].shape"
   ]
  },
  {
   "cell_type": "code",
   "execution_count": null,
   "id": "c34f679e-354c-4959-82ef-4d169c961bd0",
   "metadata": {},
   "outputs": [],
   "source": [
    "x_test"
   ]
  },
  {
   "cell_type": "markdown",
   "id": "18497983-bb4d-4e41-acc4-4e2e2a887480",
   "metadata": {},
   "source": [
    "# 9. Making Predictions"
   ]
  },
  {
   "cell_type": "code",
   "execution_count": null,
   "id": "a895b788-2495-40c6-a45a-60128815502d",
   "metadata": {},
   "outputs": [],
   "source": [
    "y_predicted = model.predict(x_test)"
   ]
  },
  {
   "cell_type": "code",
   "execution_count": null,
   "id": "7eb85a49-b837-401d-a299-fcf669fcec09",
   "metadata": {},
   "outputs": [],
   "source": [
    "y_predicted"
   ]
  },
  {
   "cell_type": "code",
   "execution_count": null,
   "id": "874722ed-24b9-4c8b-85eb-8b1e6b1f10af",
   "metadata": {},
   "outputs": [],
   "source": [
    "y_test"
   ]
  },
  {
   "cell_type": "code",
   "execution_count": null,
   "id": "37c12291-06d1-4945-b101-c395fc1be203",
   "metadata": {},
   "outputs": [],
   "source": [
    "y_predicted = scaler.inverse_transform(y_predicted.reshape(-1, 1)).flatten()\n",
    "y_test = scaler.inverse_transform(y_test.reshape(-1, 1)).flatten()"
   ]
  },
  {
   "cell_type": "code",
   "execution_count": null,
   "id": "94dfc2f9-94b8-4ce5-8f59-234eeea993d5",
   "metadata": {},
   "outputs": [],
   "source": [
    "y_predicted"
   ]
  },
  {
   "cell_type": "code",
   "execution_count": null,
   "id": "9c55494f-3515-427a-b575-3ae143a175dc",
   "metadata": {},
   "outputs": [],
   "source": [
    "y_test"
   ]
  },
  {
   "cell_type": "code",
   "execution_count": null,
   "id": "6497890b-20fe-49a6-b393-6d8c5c43e5e2",
   "metadata": {},
   "outputs": [],
   "source": [
    "plt.figure(figsize=(12, 6))\n",
    "plt.plot(y_test, 'b', label='Original Price')\n",
    "plt.plot(y_predicted, 'r', label='Predicted Price')\n",
    "plt.xlabel('Days')\n",
    "plt.ylabel('Price')\n",
    "plt.legend()"
   ]
  },
  {
   "cell_type": "code",
   "execution_count": null,
   "id": "e6830b35-20a2-4121-a631-bf95f8fa8ae9",
   "metadata": {},
   "outputs": [],
   "source": [
    "plt.figure(figsize=(12, 6))\n",
    "plt.plot(y_test, 'b', label='Original Price')\n",
    "plt.plot(y_predicted, 'r', label='Predicted Price')\n",
    "plt.xlabel('Days')\n",
    "plt.ylabel('Price')\n",
    "plt.legend()\n",
    "plt.xlim(450, 750)\n",
    "plt.ylim(140, 220)"
   ]
  },
  {
   "cell_type": "markdown",
   "id": "de7c6a59-b626-473c-ab2d-40a6a74fe7c1",
   "metadata": {},
   "source": [
    "# 10. Model Evaluation"
   ]
  },
  {
   "cell_type": "code",
   "execution_count": null,
   "id": "2211f341-9d7b-4ca3-be21-82a60d6f9e50",
   "metadata": {},
   "outputs": [],
   "source": [
    "# Mean Squared Error (MSE)\n",
    "\n",
    "from sklearn.metrics import mean_squared_error, r2_score"
   ]
  },
  {
   "cell_type": "code",
   "execution_count": null,
   "id": "04027428-17e1-440c-bb82-9a9616d8d5ca",
   "metadata": {},
   "outputs": [],
   "source": [
    "mse = mean_squared_error(y_test, y_predicted)\n",
    "print(f\"Mean Squared Error (MSE): {mse}\")"
   ]
  },
  {
   "cell_type": "code",
   "execution_count": null,
   "id": "77dfa5c3-6ffc-4158-9e57-c2fa427f50a0",
   "metadata": {},
   "outputs": [],
   "source": [
    "# Root Mean Squared Error (RMSE)\n",
    "rmse = np.sqrt(mse)\n",
    "print(f\"Root Mean Squared Error (RMSE): {rmse}\")"
   ]
  },
  {
   "cell_type": "code",
   "execution_count": null,
   "id": "75222d5e-3711-448e-8feb-36e0f868065f",
   "metadata": {},
   "outputs": [],
   "source": [
    "# R-Squared\n",
    "r2 = r2_score(y_test, y_predicted)\n",
    "print(f\"R-Squared: {r2}\")"
   ]
  }
 ],
 "metadata": {
  "kernelspec": {
   "display_name": "env",
   "language": "python",
   "name": "python3"
  },
  "language_info": {
   "codemirror_mode": {
    "name": "ipython",
    "version": 3
   },
   "file_extension": ".py",
   "mimetype": "text/x-python",
   "name": "python",
   "nbconvert_exporter": "python",
   "pygments_lexer": "ipython3",
   "version": "3.13.7"
  }
 },
 "nbformat": 4,
 "nbformat_minor": 5
}
